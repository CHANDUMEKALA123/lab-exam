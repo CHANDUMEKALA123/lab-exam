{
  "nbformat": 4,
  "nbformat_minor": 0,
  "metadata": {
    "colab": {
      "provenance": [],
      "authorship_tag": "ABX9TyPRheFwOXdWx6Z7jRx1FRiK",
      "include_colab_link": true
    },
    "kernelspec": {
      "name": "python3",
      "display_name": "Python 3"
    },
    "language_info": {
      "name": "python"
    }
  },
  "cells": [
    {
      "cell_type": "markdown",
      "metadata": {
        "id": "view-in-github",
        "colab_type": "text"
      },
      "source": [
        "<a href=\"https://colab.research.google.com/github/CHANDUMEKALA123/lab-exam/blob/main/chandu139.ipynb\" target=\"_parent\"><img src=\"https://colab.research.google.com/assets/colab-badge.svg\" alt=\"Open In Colab\"/></a>"
      ]
    },
    {
      "cell_type": "code",
      "execution_count": 1,
      "metadata": {
        "id": "Uza-Y5SyX7b9"
      },
      "outputs": [],
      "source": [
        "import pandas as pd\n"
      ]
    },
    {
      "cell_type": "code",
      "source": [
        "from google.colab import drive\n",
        "drive.mount=('/content/Copy of ODD.xlsx')"
      ],
      "metadata": {
        "id": "CkNxB9fyYOcG"
      },
      "execution_count": 2,
      "outputs": []
    },
    {
      "cell_type": "code",
      "source": [
        "df=pd.read_excel('/content/Copy of ODD.xlsx')"
      ],
      "metadata": {
        "id": "zDvucAyFYedW"
      },
      "execution_count": 3,
      "outputs": []
    },
    {
      "cell_type": "code",
      "source": [
        "average_cost_per_destination = df.groupby('Destination')['Total_Cost'].mean()\n",
        "print(average_cost_per_destination)"
      ],
      "metadata": {
        "colab": {
          "base_uri": "https://localhost:8080/"
        },
        "id": "vLHEYXbOYorF",
        "outputId": "32fee603-a69c-4fd0-e7cc-4a09b5488385"
      },
      "execution_count": 4,
      "outputs": [
        {
          "output_type": "stream",
          "name": "stdout",
          "text": [
            "Destination\n",
            "ALBANIA           73664.210000\n",
            "ALEJANDROSHIRE    78168.730000\n",
            "ARUBA              8573.290000\n",
            "Adamsbury         22309.600000\n",
            "Adamsfurt         15705.440000\n",
            "                      ...     \n",
            "Zacharyberg       41751.850000\n",
            "Zambia            20658.930000\n",
            "Zamoramouth       84404.310000\n",
            "Zimbabwe          31329.406667\n",
            "Zimmermantown     59139.600000\n",
            "Name: Total_Cost, Length: 858, dtype: float64\n"
          ]
        }
      ]
    },
    {
      "cell_type": "code",
      "source": [
        "import pandas as pd\n",
        "\n",
        "df = pd.read_excel(\"/content/Copy of ODD.xlsx\")\n",
        "df[[\"Start_Date\", \"End_Date\"]] = df[\"Travel_Dates\"].str.split(\" - \", expand=True).apply(pd.to_datetime, errors=\"coerce\")\n",
        "df = df.dropna(subset=[\"Start_Date\", \"End_Date\"])\n",
        "df[\"Travel_Duration\"] = (df[\"End_Date\"] - df[\"Start_Date\"]).dt.days\n",
        "\n",
        "print(\"Earliest:\", df[\"Start_Date\"].min(), \"\\nLatest:\", df[\"End_Date\"].max(), \"\\nMost Common Period:\", df[\"Travel_Duration\"].mode()[0])"
      ],
      "metadata": {
        "colab": {
          "base_uri": "https://localhost:8080/"
        },
        "id": "I4ohXRjCYqJN",
        "outputId": "c88c156e-8613-4ae3-c39e-8023c5ccf2f6"
      },
      "execution_count": 5,
      "outputs": [
        {
          "output_type": "stream",
          "name": "stdout",
          "text": [
            "Earliest: 2023-08-20 00:00:00 \n",
            "Latest: 2025-08-19 00:00:00 \n",
            "Most Common Period: 291\n"
          ]
        }
      ]
    },
    {
      "cell_type": "code",
      "source": [
        "unique_destinations= df[\"Destination\"].nunique()\n",
        "print(\"Number of Unique Destinations:\", unique_destinations)"
      ],
      "metadata": {
        "colab": {
          "base_uri": "https://localhost:8080/"
        },
        "id": "SGZRzZqHY0yt",
        "outputId": "0d70af5c-9aaa-4835-8620-6ec963588829"
      },
      "execution_count": 6,
      "outputs": [
        {
          "output_type": "stream",
          "name": "stdout",
          "text": [
            "Number of Unique Destinations: 796\n"
          ]
        }
      ]
    },
    {
      "cell_type": "code",
      "source": [
        "import pandas as pd\n",
        "import re\n",
        "df = pd.read_excel(\"/content/Copy of ODD.xlsx\")\n",
        "patterns = {\n",
        "    \"YYYY-MM-DD - YYYY-MM-DD\": re.compile(r\"\\d{4}-\\d{2}-\\d{2} - \\d{4}-\\d{2}-\\d{2}\"),\n",
        "    \"YYYY/MM/DD / YYYY/MM/DD\": re.compile(r\"\\d{4}/\\d{2}/\\d{2} / \\d{4}/\\d{2}/\\d{2}\")\n",
        "}\n",
        "\n",
        "counts = {k: 0 for k in patterns}\n",
        "inconsistent = []\n",
        "\n",
        "for date in df[\"Travel_Dates\"].dropna():\n",
        "    if any(p.fullmatch(date) for p in patterns.values()):\n",
        "        for fmt, p in patterns.items():\n",
        "            if p.fullmatch(date):\n",
        "                counts[fmt] += 1\n",
        "    else:\n",
        "        inconsistent.append(date)\n",
        "print(\"Date Formats:\", counts)\n",
        "if inconsistent:\n",
        "    print(\"\\nInconsistent Dates:\", inconsistent[:10])\n",
        "else:\n",
        "    print(\"\\nAll dates are consistent.\")"
      ],
      "metadata": {
        "colab": {
          "base_uri": "https://localhost:8080/"
        },
        "id": "AvnZSYDdY6x9",
        "outputId": "ba474062-ac1b-435a-9257-c8501e5ea59e"
      },
      "execution_count": 7,
      "outputs": [
        {
          "output_type": "stream",
          "name": "stdout",
          "text": [
            "Date Formats: {'YYYY-MM-DD - YYYY-MM-DD': 4687, 'YYYY/MM/DD / YYYY/MM/DD': 513}\n",
            "\n",
            "All dates are consistent.\n"
          ]
        }
      ]
    },
    {
      "cell_type": "code",
      "source": [
        "invalid_travelers = df[(df[\"Number_of_Travelers\"] <= 0) | (df[\"Number_of_Travelers\"] > 100)]\n",
        "\n",
        "if not invalid_travelers.empty:\n",
        "    print(\"Invalid Number_of_Travelers found:\")\n",
        "    print(invalid_travelers)\n",
        "else:\n",
        "    print(\"All traveler numbers are positive and reasonable.\")"
      ],
      "metadata": {
        "colab": {
          "base_uri": "https://localhost:8080/"
        },
        "id": "UZLaMJzbZDWM",
        "outputId": "26879c89-366d-4f91-a574-09f5314a17b7"
      },
      "execution_count": 8,
      "outputs": [
        {
          "output_type": "stream",
          "name": "stdout",
          "text": [
            "All traveler numbers are positive and reasonable.\n"
          ]
        }
      ]
    }
  ]
}